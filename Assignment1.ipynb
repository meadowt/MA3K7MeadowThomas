{
 "cells": [
  {
   "cell_type": "code",
   "execution_count": 75,
   "id": "8ef1b057-ba5c-45e7-8fd4-7409063eed66",
   "metadata": {},
   "outputs": [
    {
     "name": "stdout",
     "output_type": "stream",
     "text": [
      "[4, 6, 0, 6, 6, 2, 8, 0, 8, 8, 6, 4, 0, 4, 4, 8, 2, 0, 2, 2, 4, 6]\n",
      "20\n",
      "True\n",
      "6\n",
      "[[0, 0, 0], [0, 1, 1, 2, 3, 5, 8, 3, 1, 4, 5, 9, 4, 3, 7, 0, 7, 7, 4, 1, 5, 6, 1, 7, 8, 5, 3, 8, 1, 9, 0, 9, 9, 8, 7, 5, 2, 7, 9, 6, 5, 1, 6, 7, 3, 0, 3, 3, 6, 9, 5, 4, 9, 3, 2, 5, 7, 2, 9, 1, 0, 1], [0, 2, 2, 4, 6, 0, 6, 6, 2, 8, 0, 8, 8, 6, 4, 0, 4, 4, 8, 2, 0, 2], [0, 5, 5, 0, 5], [1, 3, 4, 7, 1, 8, 9, 7, 6, 3, 9, 2, 1, 3], [2, 6, 8, 4, 2, 6]]\n"
     ]
    }
   ],
   "source": [
    "#defining a function to produce a bracelet when given an input of 2 numbers \n",
    "#if we want a bracelet containing numbers less than N, we change it to mod = N\n",
    "mod = 10\n",
    "def bracelet (a,b):  \n",
    "    array = [a,b]\n",
    "    \n",
    "    x = (array[0] + array[1]) % mod\n",
    "    array.append(x)\n",
    "    \n",
    "    i=2\n",
    "    while array[0] != array[i-1] or array[1] != array[i]:\n",
    "        x = (array[i-1] + array[i]) % mod\n",
    "        array.append(x)\n",
    "        i+=1\n",
    "    \n",
    "    return array\n",
    "\n",
    "#Tests to check that the function works correctly\n",
    "#subtract 2 from the length as we dont want to count our input numbers twice \n",
    "print(bracelet(4,6))\n",
    "print(len(bracelet(4,6))-2)  \n",
    "\n",
    "#comparing to see if 2 bracelets are equal\n",
    "def compare(b1,b2): \n",
    "    for i in range(1,len(b2)-1):\n",
    "        if b1[0] == b2[i-1] and b1[1] == b2[i]:\n",
    "            return True\n",
    "    \n",
    "    return False\n",
    "\n",
    "#Test to check the function works correctly\n",
    "print(compare(bracelet(0,2),bracelet(0,4)))\n",
    "\n",
    "\n",
    "#creating an empty array and filling it with unique bracelets\n",
    "#This can also be adusted by replacing 10 with the same N as before \n",
    "store = []\n",
    "for a in range(10):\n",
    "    for b in range(10):\n",
    "        b1 = bracelet(a,b)\n",
    "        comp = False\n",
    "        if len(store) == 0 :\n",
    "            store = [b1]\n",
    "        else:\n",
    "            for i in range(len(store)):\n",
    "                if compare(b1,store[i]):\n",
    "                    comp = True\n",
    "            if not comp:\n",
    "                store.append(b1)\n",
    "\n",
    "#printing the length of our array as this will be the number of different bracelets containing numbers less than N\n",
    "print(len(store))\n",
    "#printing all the different bracelets \n",
    "print(store)\n",
    "\n",
    "\n"
   ]
  },
  {
   "cell_type": "code",
   "execution_count": null,
   "id": "9490fdbb-da34-45d6-8fcb-c67865fce5bf",
   "metadata": {},
   "outputs": [],
   "source": []
  },
  {
   "cell_type": "code",
   "execution_count": null,
   "id": "223e52d5-0ed4-4777-a8c6-c810225b7e88",
   "metadata": {},
   "outputs": [],
   "source": []
  },
  {
   "cell_type": "code",
   "execution_count": null,
   "id": "378749e1-f99c-4460-b162-3a50c572f73e",
   "metadata": {},
   "outputs": [],
   "source": []
  }
 ],
 "metadata": {
  "kernelspec": {
   "display_name": "Python 3 (ipykernel)",
   "language": "python",
   "name": "python3"
  },
  "language_info": {
   "codemirror_mode": {
    "name": "ipython",
    "version": 3
   },
   "file_extension": ".py",
   "mimetype": "text/x-python",
   "name": "python",
   "nbconvert_exporter": "python",
   "pygments_lexer": "ipython3",
   "version": "3.9.18"
  }
 },
 "nbformat": 4,
 "nbformat_minor": 5
}
