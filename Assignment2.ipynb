{
 "cells": [
  {
   "cell_type": "code",
   "execution_count": 71,
   "id": "d2d0c338-59f0-44db-b247-27e7fbdeef89",
   "metadata": {},
   "outputs": [
    {
     "name": "stdout",
     "output_type": "stream",
     "text": [
      "12870\n",
      "0.586013986013986\n",
      "0.586013986013986\n"
     ]
    }
   ],
   "source": [
    "import numpy as np\n",
    "from itertools import product\n",
    "\n",
    "def generate_matrices1(n):\n",
    "    if n % 2 == 1:\n",
    "        num_ones = n**2 // 2\n",
    "        num_zeros = num_ones + 1\n",
    "    else:\n",
    "        num_zeros = num_ones = n**2 // 2\n",
    "\n",
    "    valid_matrices = []\n",
    "    for p in product([0, 1], repeat=n**2):\n",
    "        if p.count(0) == num_zeros and p.count(1) == num_ones:\n",
    "            matrix = [p[i:i+n] for i in range(0, len(p), n)]\n",
    "            valid_matrices.append(matrix)\n",
    "    return valid_matrices\n",
    "\n",
    "def generate_matrices2(n):\n",
    "    if n % 2 == 1:\n",
    "        num_zeros = n**2 // 2\n",
    "        num_ones = num_zeros + 1\n",
    "    else:\n",
    "        num_ones = num_zeros = n**2 // 2\n",
    "\n",
    "    valid_matrices = []\n",
    "    for p in product([0, 1], repeat=n**2):\n",
    "        if p.count(0) == num_zeros and p.count(1) == num_ones:\n",
    "            matrix = [p[i:i+n] for i in range(0, len(p), n)]\n",
    "            valid_matrices.append(matrix)\n",
    "    return valid_matrices\n",
    "\n",
    "#set the size of the matrix\n",
    "n = 4\n",
    "matrices1 = generate_matrices1(n)\n",
    "\n",
    "matrices2 = generate_matrices2(n)\n",
    "    \n",
    "#calculate the determinants of the matrices\n",
    "det1 = []\n",
    "for matrix1 in matrices1:\n",
    "    det1.append(np.linalg.det(matrix1))\n",
    "\n",
    "det2 = []\n",
    "for matrix2 in matrices2:\n",
    "    det2.append(np.linalg.det(matrix2))\n",
    "    \n",
    "if n%2==1:\n",
    "    print(2*len(det1))\n",
    "else:\n",
    "    print(len(det1))\n",
    "\n",
    "#calculate the probability of producing a matrix with a determinant of 0 when Player 0 goes first \n",
    "prob1 = det1.count(0)/len(det1)\n",
    "print(prob1)\n",
    "\n",
    "#calculate the probability of producing a matrix with a determinant of 0 when Player 1 goes first\n",
    "prob2 = det2.count(0)/len(det2)\n",
    "print(prob2)\n"
   ]
  },
  {
   "cell_type": "code",
   "execution_count": 68,
   "id": "b3a9ec9c-1f3e-4de2-8d44-a66374ed9b79",
   "metadata": {},
   "outputs": [
    {
     "name": "stdout",
     "output_type": "stream",
     "text": [
      "Numpy Matrix is:\n",
      "[[1 0 0 1]\n",
      " [0 0 1 1]\n",
      " [0 1 1 0]\n",
      " [0 1 0 1]]\n",
      "\n",
      "Determinant of given 4X4 matrix:\n",
      "-2\n"
     ]
    }
   ],
   "source": [
    "# importing Numpy package \n",
    "import numpy as np \n",
    "  \n",
    "# creating a 3,3 Numpy matrix \n",
    "n_array = np.array([[1,0,0,1], [0,0,1,1], [0,1,1,0],[0,1,0,1]]) \n",
    "  \n",
    "# Displaying the Matrix \n",
    "print(\"Numpy Matrix is:\") \n",
    "print(n_array) \n",
    "  \n",
    "# calculating the determinant of matrix \n",
    "det = np.linalg.det(n_array) \n",
    "  \n",
    "print(\"\\nDeterminant of given 4X4 matrix:\") \n",
    "print(int(det)) "
   ]
  },
  {
   "cell_type": "code",
   "execution_count": 69,
   "id": "91164541-21e5-40e9-a1e7-c79729067fe9",
   "metadata": {},
   "outputs": [
    {
     "name": "stdout",
     "output_type": "stream",
     "text": [
      "2\n",
      "6\n",
      "252\n",
      "12870\n",
      "10400600\n",
      "9075135300\n",
      "126410606437752\n",
      "1832624140942590534\n",
      "424784580848791721628840\n",
      "100891344545564193334812497256\n"
     ]
    }
   ],
   "source": [
    "import numpy as np\n",
    "from math import comb\n",
    "\n",
    "#calculates the total number of possible matrics \n",
    "for n in range(1,11):\n",
    "    if n%2==0:\n",
    "        result = comb(n**2, n**2//2)\n",
    "    else:\n",
    "        result = 2*comb(n**2, (n**2 +1)//2)\n",
    "    \n",
    "    print(result)\n",
    "    "
   ]
  },
  {
   "cell_type": "code",
   "execution_count": null,
   "id": "1dd2998c-56f6-4345-9af2-e22137ef98a0",
   "metadata": {},
   "outputs": [],
   "source": []
  },
  {
   "cell_type": "code",
   "execution_count": null,
   "id": "c7994a7c-d547-4a7c-9152-9339c4b965c0",
   "metadata": {},
   "outputs": [],
   "source": []
  },
  {
   "cell_type": "code",
   "execution_count": null,
   "id": "40ce3df8-4cc7-4a87-923b-fb538de79cc1",
   "metadata": {},
   "outputs": [],
   "source": []
  }
 ],
 "metadata": {
  "kernelspec": {
   "display_name": "Python 3 (ipykernel)",
   "language": "python",
   "name": "python3"
  },
  "language_info": {
   "codemirror_mode": {
    "name": "ipython",
    "version": 3
   },
   "file_extension": ".py",
   "mimetype": "text/x-python",
   "name": "python",
   "nbconvert_exporter": "python",
   "pygments_lexer": "ipython3",
   "version": "3.9.18"
  }
 },
 "nbformat": 4,
 "nbformat_minor": 5
}
